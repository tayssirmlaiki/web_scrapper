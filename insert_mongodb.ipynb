{
 "cells": [
  {
   "cell_type": "code",
   "execution_count": 1,
   "id": "8e2b8461",
   "metadata": {},
   "outputs": [
    {
     "name": "stdout",
     "output_type": "stream",
     "text": [
      "Collecting package metadata (current_repodata.json): ...working... done\n",
      "Solving environment: ...working... done\n",
      "\n",
      "# All requested packages already installed.\n",
      "\n",
      "\n",
      "Note: you may need to restart the kernel to use updated packages.\n"
     ]
    }
   ],
   "source": [
    "conda install pymongo"
   ]
  },
  {
   "cell_type": "code",
   "execution_count": 2,
   "id": "e91ed64c",
   "metadata": {},
   "outputs": [],
   "source": [
    "import pymongo\n",
    "import pandas as pd\n",
    "import json"
   ]
  },
  {
   "cell_type": "code",
   "execution_count": 3,
   "id": "ef19b8b4",
   "metadata": {},
   "outputs": [],
   "source": [
    "client = pymongo.MongoClient(\"mongodb://localhost:27017\")"
   ]
  },
  {
   "cell_type": "code",
   "execution_count": 5,
   "id": "6b9592e1",
   "metadata": {},
   "outputs": [],
   "source": [
    "df = pd.read_csv(\"my_file.csv\")"
   ]
  },
  {
   "cell_type": "code",
   "execution_count": 6,
   "id": "d0eb2589",
   "metadata": {},
   "outputs": [
    {
     "data": {
      "text/html": [
       "<div>\n",
       "<style scoped>\n",
       "    .dataframe tbody tr th:only-of-type {\n",
       "        vertical-align: middle;\n",
       "    }\n",
       "\n",
       "    .dataframe tbody tr th {\n",
       "        vertical-align: top;\n",
       "    }\n",
       "\n",
       "    .dataframe thead th {\n",
       "        text-align: right;\n",
       "    }\n",
       "</style>\n",
       "<table border=\"1\" class=\"dataframe\">\n",
       "  <thead>\n",
       "    <tr style=\"text-align: right;\">\n",
       "      <th></th>\n",
       "      <th>Unnamed: 0</th>\n",
       "      <th>function Title</th>\n",
       "      <th>function description</th>\n",
       "    </tr>\n",
       "  </thead>\n",
       "  <tbody>\n",
       "    <tr>\n",
       "      <th>0</th>\n",
       "      <td>0</td>\n",
       "      <td>Reprise de la cotation du titre 'Attijari Bank'</td>\n",
       "      <td>La cotation du titre \" Attijari Bank \", suspen...</td>\n",
       "    </tr>\n",
       "    <tr>\n",
       "      <th>1</th>\n",
       "      <td>1</td>\n",
       "      <td>Reprise de la cotation du titre 'Attijari Bank'</td>\n",
       "      <td>Dans un communiqué publié, vendredi, la bours...</td>\n",
       "    </tr>\n",
       "    <tr>\n",
       "      <th>2</th>\n",
       "      <td>2</td>\n",
       "      <td>Reprise de la cotation du titre 'Attijari Bank'</td>\n",
       "      <td>Attijaribank Tunisie, a précisé dans un commu...</td>\n",
       "    </tr>\n",
       "    <tr>\n",
       "      <th>3</th>\n",
       "      <td>3</td>\n",
       "      <td>Reprise de la cotation du titre 'Attijari Bank'</td>\n",
       "      <td>\" L'enquête est actuellement en cours et la b...</td>\n",
       "    </tr>\n",
       "    <tr>\n",
       "      <th>4</th>\n",
       "      <td>4</td>\n",
       "      <td>Reprise de la cotation du titre 'Attijari Bank'</td>\n",
       "      <td>La banque estime que \" cette affaire n’aura p...</td>\n",
       "    </tr>\n",
       "  </tbody>\n",
       "</table>\n",
       "</div>"
      ],
      "text/plain": [
       "   Unnamed: 0                                   function Title  \\\n",
       "0           0  Reprise de la cotation du titre 'Attijari Bank'   \n",
       "1           1  Reprise de la cotation du titre 'Attijari Bank'   \n",
       "2           2  Reprise de la cotation du titre 'Attijari Bank'   \n",
       "3           3  Reprise de la cotation du titre 'Attijari Bank'   \n",
       "4           4  Reprise de la cotation du titre 'Attijari Bank'   \n",
       "\n",
       "                                function description  \n",
       "0  La cotation du titre \" Attijari Bank \", suspen...  \n",
       "1   Dans un communiqué publié, vendredi, la bours...  \n",
       "2   Attijaribank Tunisie, a précisé dans un commu...  \n",
       "3   \" L'enquête est actuellement en cours et la b...  \n",
       "4   La banque estime que \" cette affaire n’aura p...  "
      ]
     },
     "execution_count": 6,
     "metadata": {},
     "output_type": "execute_result"
    }
   ],
   "source": [
    "df.head()"
   ]
  },
  {
   "cell_type": "code",
   "execution_count": 7,
   "id": "82485290",
   "metadata": {},
   "outputs": [
    {
     "data": {
      "text/html": [
       "<div>\n",
       "<style scoped>\n",
       "    .dataframe tbody tr th:only-of-type {\n",
       "        vertical-align: middle;\n",
       "    }\n",
       "\n",
       "    .dataframe tbody tr th {\n",
       "        vertical-align: top;\n",
       "    }\n",
       "\n",
       "    .dataframe thead th {\n",
       "        text-align: right;\n",
       "    }\n",
       "</style>\n",
       "<table border=\"1\" class=\"dataframe\">\n",
       "  <thead>\n",
       "    <tr style=\"text-align: right;\">\n",
       "      <th></th>\n",
       "      <th>Unnamed: 0</th>\n",
       "      <th>function Title</th>\n",
       "      <th>function description</th>\n",
       "    </tr>\n",
       "  </thead>\n",
       "  <tbody>\n",
       "    <tr>\n",
       "      <th>3</th>\n",
       "      <td>3</td>\n",
       "      <td>Reprise de la cotation du titre 'Attijari Bank'</td>\n",
       "      <td>\" L'enquête est actuellement en cours et la b...</td>\n",
       "    </tr>\n",
       "    <tr>\n",
       "      <th>4</th>\n",
       "      <td>4</td>\n",
       "      <td>Reprise de la cotation du titre 'Attijari Bank'</td>\n",
       "      <td>La banque estime que \" cette affaire n’aura p...</td>\n",
       "    </tr>\n",
       "    <tr>\n",
       "      <th>5</th>\n",
       "      <td>5</td>\n",
       "      <td>Reprise de la cotation du titre 'Attijari Bank'</td>\n",
       "      <td>(TAP)</td>\n",
       "    </tr>\n",
       "    <tr>\n",
       "      <th>6</th>\n",
       "      <td>6</td>\n",
       "      <td>Reprise de la cotation du titre 'Attijari Bank'</td>\n",
       "      <td>2021 © Tous les droits sont réservés. Conçu et...</td>\n",
       "    </tr>\n",
       "    <tr>\n",
       "      <th>7</th>\n",
       "      <td>7</td>\n",
       "      <td>Reprise de la cotation du titre 'Attijari Bank'</td>\n",
       "      <td>Nous utilisons des cookies et d'autres données...</td>\n",
       "    </tr>\n",
       "  </tbody>\n",
       "</table>\n",
       "</div>"
      ],
      "text/plain": [
       "   Unnamed: 0                                   function Title  \\\n",
       "3           3  Reprise de la cotation du titre 'Attijari Bank'   \n",
       "4           4  Reprise de la cotation du titre 'Attijari Bank'   \n",
       "5           5  Reprise de la cotation du titre 'Attijari Bank'   \n",
       "6           6  Reprise de la cotation du titre 'Attijari Bank'   \n",
       "7           7  Reprise de la cotation du titre 'Attijari Bank'   \n",
       "\n",
       "                                function description  \n",
       "3   \" L'enquête est actuellement en cours et la b...  \n",
       "4   La banque estime que \" cette affaire n’aura p...  \n",
       "5                                              (TAP)  \n",
       "6  2021 © Tous les droits sont réservés. Conçu et...  \n",
       "7  Nous utilisons des cookies et d'autres données...  "
      ]
     },
     "execution_count": 7,
     "metadata": {},
     "output_type": "execute_result"
    }
   ],
   "source": [
    "df.tail()"
   ]
  },
  {
   "cell_type": "code",
   "execution_count": 8,
   "id": "b87687f3",
   "metadata": {},
   "outputs": [
    {
     "data": {
      "text/plain": [
       "(8, 3)"
      ]
     },
     "execution_count": 8,
     "metadata": {},
     "output_type": "execute_result"
    }
   ],
   "source": [
    "df.shape"
   ]
  },
  {
   "cell_type": "code",
   "execution_count": 9,
   "id": "b8e5253b",
   "metadata": {},
   "outputs": [],
   "source": [
    "data = df.to_dict(orient = \"records\")"
   ]
  },
  {
   "cell_type": "code",
   "execution_count": 10,
   "id": "b681450c",
   "metadata": {},
   "outputs": [
    {
     "data": {
      "text/plain": [
       "[{'Unnamed: 0': 0,\n",
       "  'function Title': \"Reprise de la cotation du titre 'Attijari Bank'\",\n",
       "  'function description': 'La cotation du titre \" Attijari Bank \", suspendu\\xa0hier jeudi, reprendra à partir de la séance de vendredi 15 mars 2019, annonce la Bourse de Tunis.'},\n",
       " {'Unnamed: 0': 1,\n",
       "  'function Title': \"Reprise de la cotation du titre 'Attijari Bank'\",\n",
       "  'function description': ' Dans un communiqué publié, vendredi, la bourse précise que la \"décision a été prise par le Conseil du marché financier(CMF) suite à la publication par la banque d’un communiqué de presse annonçant qu’elle fait l’objet d’une enquête douanière \".'},\n",
       " {'Unnamed: 0': 2,\n",
       "  'function Title': \"Reprise de la cotation du titre 'Attijari Bank'\",\n",
       "  'function description': ' Attijaribank Tunisie, a précisé dans un communiqué publié, jeudi, suite à la décision du CMF de suspendre les cotations de ses actions sur la cote de la Bourse(14 mars 2019), \" qu\\'elle fait l\\'objet depuis quelques jours d\\'une enquête douanière sur d’éventuelles infractions à la réglementation régissant le commerce extérieur \". Et de rappeler que \" plusieurs institutions financières ont fait l’objet par le passé d’enquêtes similaires \".'},\n",
       " {'Unnamed: 0': 3,\n",
       "  'function Title': \"Reprise de la cotation du titre 'Attijari Bank'\",\n",
       "  'function description': ' \" L\\'enquête est actuellement en cours et la banque a apporté son entière et parfaite collaboration avec les autorités dans le strict respect des dispositions réglementaires\", précise encore le communiqué de la banque.'},\n",
       " {'Unnamed: 0': 4,\n",
       "  'function Title': \"Reprise de la cotation du titre 'Attijari Bank'\",\n",
       "  'function description': ' La banque estime que \" cette affaire n’aura pas d’impact, ni sur sa situation financière, ni sur sa responsabilité \", exprimant son engagement à porter à la connaissance du public tout fait important relatif à cette affaire.'},\n",
       " {'Unnamed: 0': 5,\n",
       "  'function Title': \"Reprise de la cotation du titre 'Attijari Bank'\",\n",
       "  'function description': '(TAP)'},\n",
       " {'Unnamed: 0': 6,\n",
       "  'function Title': \"Reprise de la cotation du titre 'Attijari Bank'\",\n",
       "  'function description': '2021 © Tous les droits sont réservés. Conçu et développé par Tanit Web'},\n",
       " {'Unnamed: 0': 7,\n",
       "  'function Title': \"Reprise de la cotation du titre 'Attijari Bank'\",\n",
       "  'function description': \"Nous utilisons des cookies et d'autres données pour fournir, maintenir et améliorer nos services et publicités. Si vous acceptez, nous personnaliserons le contenu et les annonces que vous voyez. Nous avons également des partenaires qui mesurent l'utilisation de nos services.\"}]"
      ]
     },
     "execution_count": 10,
     "metadata": {},
     "output_type": "execute_result"
    }
   ],
   "source": [
    "data"
   ]
  },
  {
   "cell_type": "code",
   "execution_count": 11,
   "id": "e8289f3f",
   "metadata": {},
   "outputs": [],
   "source": [
    "db = client[\"WebScraping\"]"
   ]
  },
  {
   "cell_type": "code",
   "execution_count": 12,
   "id": "c106f99d",
   "metadata": {},
   "outputs": [
    {
     "name": "stdout",
     "output_type": "stream",
     "text": [
      "Database(MongoClient(host=['localhost:27017'], document_class=dict, tz_aware=False, connect=True), 'WebScraping')\n"
     ]
    }
   ],
   "source": [
    "print(db)"
   ]
  },
  {
   "cell_type": "code",
   "execution_count": 13,
   "id": "4a543aef",
   "metadata": {},
   "outputs": [
    {
     "data": {
      "text/plain": [
       "<pymongo.results.InsertManyResult at 0x1be8bf66340>"
      ]
     },
     "execution_count": 13,
     "metadata": {},
     "output_type": "execute_result"
    }
   ],
   "source": [
    "db.web.insert_many(data)"
   ]
  },
  {
   "cell_type": "code",
   "execution_count": null,
   "id": "f2b5891f",
   "metadata": {},
   "outputs": [],
   "source": []
  }
 ],
 "metadata": {
  "kernelspec": {
   "display_name": "Python 3",
   "language": "python",
   "name": "python3"
  },
  "language_info": {
   "codemirror_mode": {
    "name": "ipython",
    "version": 3
   },
   "file_extension": ".py",
   "mimetype": "text/x-python",
   "name": "python",
   "nbconvert_exporter": "python",
   "pygments_lexer": "ipython3",
   "version": "3.8.8"
  }
 },
 "nbformat": 4,
 "nbformat_minor": 5
}
